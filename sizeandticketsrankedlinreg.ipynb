{
 "cells": [
  {
   "cell_type": "code",
   "execution_count": 7,
   "id": "27691922",
   "metadata": {},
   "outputs": [],
   "source": [
    "# Dependencies\n",
    "%matplotlib inline\n",
    "import matplotlib.pyplot as plt\n",
    "import numpy as np\n",
    "import pandas as pd"
   ]
  },
  {
   "cell_type": "code",
   "execution_count": 8,
   "id": "06219f19",
   "metadata": {},
   "outputs": [],
   "source": [
    "#ML Dependencies\n",
    "from sklearn.datasets import make_regression\n",
    "\n",
    "X, y = make_regression(n_samples=33, n_features=1, random_state=0, noise=4, bias=100.0)"
   ]
  },
  {
   "cell_type": "code",
   "execution_count": 9,
   "id": "8ee2e149",
   "metadata": {},
   "outputs": [],
   "source": [
    "#Input Paths\n",
    "sizedata = 'dataformodel/sizeandticketsdeepdive.csv'"
   ]
  },
  {
   "cell_type": "code",
   "execution_count": 10,
   "id": "a5835312",
   "metadata": {},
   "outputs": [],
   "source": [
    "#Read in CSV\n",
    "size_df = pd.read_csv(sizedata)"
   ]
  },
  {
   "cell_type": "code",
   "execution_count": 11,
   "id": "88c384b5",
   "metadata": {},
   "outputs": [
    {
     "data": {
      "text/html": [
       "<div>\n",
       "<style scoped>\n",
       "    .dataframe tbody tr th:only-of-type {\n",
       "        vertical-align: middle;\n",
       "    }\n",
       "\n",
       "    .dataframe tbody tr th {\n",
       "        vertical-align: top;\n",
       "    }\n",
       "\n",
       "    .dataframe thead th {\n",
       "        text-align: right;\n",
       "    }\n",
       "</style>\n",
       "<table border=\"1\" class=\"dataframe\">\n",
       "  <thead>\n",
       "    <tr style=\"text-align: right;\">\n",
       "      <th></th>\n",
       "      <th>Size</th>\n",
       "      <th>Tickets</th>\n",
       "    </tr>\n",
       "  </thead>\n",
       "  <tbody>\n",
       "    <tr>\n",
       "      <th>0</th>\n",
       "      <td>1</td>\n",
       "      <td>1433</td>\n",
       "    </tr>\n",
       "    <tr>\n",
       "      <th>1</th>\n",
       "      <td>2</td>\n",
       "      <td>9579</td>\n",
       "    </tr>\n",
       "    <tr>\n",
       "      <th>2</th>\n",
       "      <td>3</td>\n",
       "      <td>119468</td>\n",
       "    </tr>\n",
       "    <tr>\n",
       "      <th>3</th>\n",
       "      <td>4</td>\n",
       "      <td>566</td>\n",
       "    </tr>\n",
       "    <tr>\n",
       "      <th>4</th>\n",
       "      <td>5</td>\n",
       "      <td>134236</td>\n",
       "    </tr>\n",
       "    <tr>\n",
       "      <th>5</th>\n",
       "      <td>6</td>\n",
       "      <td>53638</td>\n",
       "    </tr>\n",
       "    <tr>\n",
       "      <th>6</th>\n",
       "      <td>7</td>\n",
       "      <td>11161</td>\n",
       "    </tr>\n",
       "    <tr>\n",
       "      <th>7</th>\n",
       "      <td>8</td>\n",
       "      <td>4023</td>\n",
       "    </tr>\n",
       "    <tr>\n",
       "      <th>8</th>\n",
       "      <td>9</td>\n",
       "      <td>14</td>\n",
       "    </tr>\n",
       "    <tr>\n",
       "      <th>9</th>\n",
       "      <td>10</td>\n",
       "      <td>13</td>\n",
       "    </tr>\n",
       "    <tr>\n",
       "      <th>10</th>\n",
       "      <td>11</td>\n",
       "      <td>3793</td>\n",
       "    </tr>\n",
       "    <tr>\n",
       "      <th>11</th>\n",
       "      <td>12</td>\n",
       "      <td>311</td>\n",
       "    </tr>\n",
       "    <tr>\n",
       "      <th>12</th>\n",
       "      <td>13</td>\n",
       "      <td>1</td>\n",
       "    </tr>\n",
       "    <tr>\n",
       "      <th>13</th>\n",
       "      <td>14</td>\n",
       "      <td>77</td>\n",
       "    </tr>\n",
       "    <tr>\n",
       "      <th>14</th>\n",
       "      <td>15</td>\n",
       "      <td>104</td>\n",
       "    </tr>\n",
       "    <tr>\n",
       "      <th>15</th>\n",
       "      <td>16</td>\n",
       "      <td>163</td>\n",
       "    </tr>\n",
       "    <tr>\n",
       "      <th>16</th>\n",
       "      <td>17</td>\n",
       "      <td>21</td>\n",
       "    </tr>\n",
       "    <tr>\n",
       "      <th>17</th>\n",
       "      <td>18</td>\n",
       "      <td>6</td>\n",
       "    </tr>\n",
       "    <tr>\n",
       "      <th>18</th>\n",
       "      <td>19</td>\n",
       "      <td>36</td>\n",
       "    </tr>\n",
       "    <tr>\n",
       "      <th>19</th>\n",
       "      <td>20</td>\n",
       "      <td>734</td>\n",
       "    </tr>\n",
       "    <tr>\n",
       "      <th>20</th>\n",
       "      <td>21</td>\n",
       "      <td>410</td>\n",
       "    </tr>\n",
       "    <tr>\n",
       "      <th>21</th>\n",
       "      <td>21</td>\n",
       "      <td>3</td>\n",
       "    </tr>\n",
       "    <tr>\n",
       "      <th>22</th>\n",
       "      <td>22</td>\n",
       "      <td>51</td>\n",
       "    </tr>\n",
       "    <tr>\n",
       "      <th>23</th>\n",
       "      <td>23</td>\n",
       "      <td>11</td>\n",
       "    </tr>\n",
       "    <tr>\n",
       "      <th>24</th>\n",
       "      <td>24</td>\n",
       "      <td>50</td>\n",
       "    </tr>\n",
       "    <tr>\n",
       "      <th>25</th>\n",
       "      <td>25</td>\n",
       "      <td>3</td>\n",
       "    </tr>\n",
       "    <tr>\n",
       "      <th>26</th>\n",
       "      <td>26</td>\n",
       "      <td>377</td>\n",
       "    </tr>\n",
       "    <tr>\n",
       "      <th>27</th>\n",
       "      <td>27</td>\n",
       "      <td>1707</td>\n",
       "    </tr>\n",
       "    <tr>\n",
       "      <th>28</th>\n",
       "      <td>28</td>\n",
       "      <td>130</td>\n",
       "    </tr>\n",
       "    <tr>\n",
       "      <th>29</th>\n",
       "      <td>29</td>\n",
       "      <td>8</td>\n",
       "    </tr>\n",
       "    <tr>\n",
       "      <th>30</th>\n",
       "      <td>30</td>\n",
       "      <td>5</td>\n",
       "    </tr>\n",
       "    <tr>\n",
       "      <th>31</th>\n",
       "      <td>32</td>\n",
       "      <td>88</td>\n",
       "    </tr>\n",
       "    <tr>\n",
       "      <th>32</th>\n",
       "      <td>33</td>\n",
       "      <td>2606</td>\n",
       "    </tr>\n",
       "  </tbody>\n",
       "</table>\n",
       "</div>"
      ],
      "text/plain": [
       "    Size  Tickets\n",
       "0      1     1433\n",
       "1      2     9579\n",
       "2      3   119468\n",
       "3      4      566\n",
       "4      5   134236\n",
       "5      6    53638\n",
       "6      7    11161\n",
       "7      8     4023\n",
       "8      9       14\n",
       "9     10       13\n",
       "10    11     3793\n",
       "11    12      311\n",
       "12    13        1\n",
       "13    14       77\n",
       "14    15      104\n",
       "15    16      163\n",
       "16    17       21\n",
       "17    18        6\n",
       "18    19       36\n",
       "19    20      734\n",
       "20    21      410\n",
       "21    21        3\n",
       "22    22       51\n",
       "23    23       11\n",
       "24    24       50\n",
       "25    25        3\n",
       "26    26      377\n",
       "27    27     1707\n",
       "28    28      130\n",
       "29    29        8\n",
       "30    30        5\n",
       "31    32       88\n",
       "32    33     2606"
      ]
     },
     "execution_count": 11,
     "metadata": {},
     "output_type": "execute_result"
    }
   ],
   "source": [
    "size_df\n"
   ]
  },
  {
   "cell_type": "code",
   "execution_count": 13,
   "id": "08ae6477",
   "metadata": {},
   "outputs": [
    {
     "name": "stdout",
     "output_type": "stream",
     "text": [
      "Shape:  (33, 1) (33, 1)\n"
     ]
    }
   ],
   "source": [
    "X = size_df[\"Size\"].values.reshape(-1, 1)\n",
    "y = size_df[\"Tickets\"].values.reshape(-1, 1)\n",
    "\n",
    "print(\"Shape: \", X.shape, y.shape)"
   ]
  },
  {
   "cell_type": "code",
   "execution_count": 14,
   "id": "2c21fcbc",
   "metadata": {},
   "outputs": [
    {
     "data": {
      "text/plain": [
       "Text(0, 0.5, 'Number of Tickets')"
      ]
     },
     "execution_count": 14,
     "metadata": {},
     "output_type": "execute_result"
    },
    {
     "data": {
      "image/png": "[encoded data removed]",
      "text/plain": [
       "<Figure size 432x288 with 1 Axes>"
      ]
     },
     "metadata": {
      "needs_background": "light"
     },
     "output_type": "display_data"
    }
   ],
   "source": [
    "# Plot the data to see if a linear trend exists\n",
    "plt.scatter(X, y)\n",
    "plt.xlabel(\"Size of Vehicle\")\n",
    "plt.ylabel(\"Number of Tickets\")\n"
   ]
  },
  {
   "cell_type": "code",
   "execution_count": 15,
   "id": "1e9672be",
   "metadata": {},
   "outputs": [
    {
     "data": {
      "text/plain": [
       "LinearRegression()"
      ]
     },
     "execution_count": 15,
     "metadata": {},
     "output_type": "execute_result"
    }
   ],
   "source": [
    "#linear Regression\n",
    "from sklearn.linear_model import LinearRegression\n",
    "model = LinearRegression()\n",
    "model"
   ]
  },
  {
   "cell_type": "code",
   "execution_count": 16,
   "id": "a7950bc9",
   "metadata": {},
   "outputs": [
    {
     "data": {
      "text/plain": [
       "LinearRegression()"
      ]
     },
     "execution_count": 16,
     "metadata": {},
     "output_type": "execute_result"
    }
   ],
   "source": [
    "model.fit(X, y)"
   ]
  },
  {
   "cell_type": "code",
   "execution_count": 17,
   "id": "b4f0b6ed",
   "metadata": {},
   "outputs": [
    {
     "name": "stdout",
     "output_type": "stream",
     "text": [
      "Weight coefficients:  [[-1440.42930655]]\n",
      "y-axis intercept:  [34500.07720937]\n"
     ]
    }
   ],
   "source": [
    "print('Weight coefficients: ', model.coef_)\n",
    "print('y-axis intercept: ', model.intercept_) "
   ]
  },
  {
   "cell_type": "code",
   "execution_count": 18,
   "id": "9698f7f1",
   "metadata": {},
   "outputs": [],
   "source": [
    "#Model is y=(-1440.4)X + 34500"
   ]
  },
  {
   "cell_type": "code",
   "execution_count": 19,
   "id": "861a7a7f",
   "metadata": {},
   "outputs": [
    {
     "name": "stdout",
     "output_type": "stream",
     "text": [
      "True output: [1433]\n",
      "Predicted output: [33059.64790282]\n",
      "Prediction Error: [31626.64790282]\n"
     ]
    }
   ],
   "source": [
    "predictions = model.predict(X)\n",
    "print(f\"True output: {y[0]}\")\n",
    "print(f\"Predicted output: {predictions[0]}\")\n",
    "print(f\"Prediction Error: {predictions[0]-y[0]}\")"
   ]
  },
  {
   "cell_type": "code",
   "execution_count": 20,
   "id": "89e3951a",
   "metadata": {},
   "outputs": [
    {
     "data": {
      "text/html": [
       "<div>\n",
       "<style scoped>\n",
       "    .dataframe tbody tr th:only-of-type {\n",
       "        vertical-align: middle;\n",
       "    }\n",
       "\n",
       "    .dataframe tbody tr th {\n",
       "        vertical-align: top;\n",
       "    }\n",
       "\n",
       "    .dataframe thead th {\n",
       "        text-align: right;\n",
       "    }\n",
       "</style>\n",
       "<table border=\"1\" class=\"dataframe\">\n",
       "  <thead>\n",
       "    <tr style=\"text-align: right;\">\n",
       "      <th></th>\n",
       "      <th>Predicted</th>\n",
       "      <th>Actual</th>\n",
       "      <th>Error</th>\n",
       "    </tr>\n",
       "  </thead>\n",
       "  <tbody>\n",
       "    <tr>\n",
       "      <th>0</th>\n",
       "      <td>[[33059.64790282212], [31619.21859627168], [30...</td>\n",
       "      <td>[[1433], [9579], [119468], [566], [134236], [5...</td>\n",
       "      <td>[[31626.647902822122], [22040.21859627168], [-...</td>\n",
       "    </tr>\n",
       "  </tbody>\n",
       "</table>\n",
       "</div>"
      ],
      "text/plain": [
       "                                           Predicted  \\\n",
       "0  [[33059.64790282212], [31619.21859627168], [30...   \n",
       "\n",
       "                                              Actual  \\\n",
       "0  [[1433], [9579], [119468], [566], [134236], [5...   \n",
       "\n",
       "                                               Error  \n",
       "0  [[31626.647902822122], [22040.21859627168], [-...  "
      ]
     },
     "execution_count": 20,
     "metadata": {},
     "output_type": "execute_result"
    }
   ],
   "source": [
    "error_df = pd.DataFrame({'Predicted':[predictions],'Actual':[y], 'Error': [predictions-y]})\n",
    "error_df"
   ]
  },
  {
   "cell_type": "code",
   "execution_count": 21,
   "id": "9aaae610",
   "metadata": {},
   "outputs": [
    {
     "name": "stdout",
     "output_type": "stream",
     "text": [
      "[[ 33059.64790282]\n",
      " [ 31619.21859627]\n",
      " [ 30178.78928972]\n",
      " [ 28738.35998317]\n",
      " [ 27297.93067662]\n",
      " [ 25857.50137007]\n",
      " [ 24417.07206352]\n",
      " [ 22976.64275697]\n",
      " [ 21536.21345042]\n",
      " [ 20095.78414387]\n",
      " [ 18655.35483732]\n",
      " [ 17214.92553077]\n",
      " [ 15774.49622422]\n",
      " [ 14334.06691767]\n",
      " [ 12893.63761112]\n",
      " [ 11453.20830457]\n",
      " [ 10012.77899802]\n",
      " [  8572.34969146]\n",
      " [  7131.92038491]\n",
      " [  5691.49107836]\n",
      " [  4251.06177181]\n",
      " [  4251.06177181]\n",
      " [  2810.63246526]\n",
      " [  1370.20315871]\n",
      " [   -70.22614784]\n",
      " [ -1510.65545439]\n",
      " [ -2951.08476094]\n",
      " [ -4391.51406749]\n",
      " [ -5831.94337404]\n",
      " [ -7272.37268059]\n",
      " [ -8712.80198714]\n",
      " [-11593.66060024]\n",
      " [-13034.08990679]]\n"
     ]
    }
   ],
   "source": [
    "print(predictions)"
   ]
  },
  {
   "cell_type": "code",
   "execution_count": 22,
   "id": "5893509f",
   "metadata": {},
   "outputs": [
    {
     "name": "stdout",
     "output_type": "stream",
     "text": [
      "[[  1433]\n",
      " [  9579]\n",
      " [119468]\n",
      " [   566]\n",
      " [134236]\n",
      " [ 53638]\n",
      " [ 11161]\n",
      " [  4023]\n",
      " [    14]\n",
      " [    13]\n",
      " [  3793]\n",
      " [   311]\n",
      " [     1]\n",
      " [    77]\n",
      " [   104]\n",
      " [   163]\n",
      " [    21]\n",
      " [     6]\n",
      " [    36]\n",
      " [   734]\n",
      " [   410]\n",
      " [     3]\n",
      " [    51]\n",
      " [    11]\n",
      " [    50]\n",
      " [     3]\n",
      " [   377]\n",
      " [  1707]\n",
      " [   130]\n",
      " [     8]\n",
      " [     5]\n",
      " [    88]\n",
      " [  2606]]\n"
     ]
    }
   ],
   "source": [
    "print(y)"
   ]
  },
  {
   "cell_type": "code",
   "execution_count": 23,
   "id": "ff43a1fc",
   "metadata": {},
   "outputs": [
    {
     "name": "stdout",
     "output_type": "stream",
     "text": [
      "[[  31626.64790282]\n",
      " [  22040.21859627]\n",
      " [ -89289.21071028]\n",
      " [  28172.35998317]\n",
      " [-106938.06932338]\n",
      " [ -27780.49862993]\n",
      " [  13256.07206352]\n",
      " [  18953.64275697]\n",
      " [  21522.21345042]\n",
      " [  20082.78414387]\n",
      " [  14862.35483732]\n",
      " [  16903.92553077]\n",
      " [  15773.49622422]\n",
      " [  14257.06691767]\n",
      " [  12789.63761112]\n",
      " [  11290.20830457]\n",
      " [   9991.77899802]\n",
      " [   8566.34969146]\n",
      " [   7095.92038491]\n",
      " [   4957.49107836]\n",
      " [   3841.06177181]\n",
      " [   4248.06177181]\n",
      " [   2759.63246526]\n",
      " [   1359.20315871]\n",
      " [   -120.22614784]\n",
      " [  -1513.65545439]\n",
      " [  -3328.08476094]\n",
      " [  -6098.51406749]\n",
      " [  -5961.94337404]\n",
      " [  -7280.37268059]\n",
      " [  -8717.80198714]\n",
      " [ -11681.66060024]\n",
      " [ -15640.08990679]]\n"
     ]
    }
   ],
   "source": [
    "print(predictions-y)"
   ]
  },
  {
   "cell_type": "code",
   "execution_count": 29,
   "id": "752f2620",
   "metadata": {},
   "outputs": [],
   "source": [
    "x_min = X.min()\n",
    "x_max = X.max()"
   ]
  },
  {
   "cell_type": "code",
   "execution_count": 30,
   "id": "828d6f4e",
   "metadata": {},
   "outputs": [],
   "source": [
    "y_min_actual = y.min()\n",
    "y_max_actual = y.max()"
   ]
  },
  {
   "cell_type": "code",
   "execution_count": 31,
   "id": "56e2825d",
   "metadata": {},
   "outputs": [
    {
     "name": "stdout",
     "output_type": "stream",
     "text": [
      "Actual Min Value: 1\n",
      "Calculated Min Value: 33059.6\n",
      "Actual Max Value: 134236\n",
      "Calculated Max Value: -13033.200000000004\n"
     ]
    }
   ],
   "source": [
    "y_min = 34500 - 1440.4  * x_min\n",
    "y_max = 34500 - 1440.4  * x_max\n",
    "print(f\"Actual Min Value: {y_min_actual}\")\n",
    "print(f\"Calculated Min Value: {y_min}\")\n",
    "print(f\"Actual Max Value: {y_max_actual}\")\n",
    "print(f\"Calculated Max Value: {y_max}\")"
   ]
  },
  {
   "cell_type": "code",
   "execution_count": 32,
   "id": "9339c40e",
   "metadata": {},
   "outputs": [
    {
     "name": "stdout",
     "output_type": "stream",
     "text": [
      "Actual Min Value: 1\n",
      "Predicted Min Value: [[33059.64790282]]\n",
      "Actual Max Value: 134236\n",
      "Predicted Max Value: [[-13034.08990679]]\n"
     ]
    }
   ],
   "source": [
    "y_min_predicted = model.predict([[x_min]])\n",
    "y_max_predicted = model.predict([[x_max]])\n",
    "print(f\"Actual Min Value: {y_min_actual}\")\n",
    "print(f\"Predicted Min Value: {y_min_predicted}\")\n",
    "print(f\"Actual Max Value: {y_max_actual}\")\n",
    "print(f\"Predicted Max Value: {y_max_predicted}\")"
   ]
  },
  {
   "cell_type": "code",
   "execution_count": 33,
   "id": "0dafe739",
   "metadata": {},
   "outputs": [
    {
     "data": {
      "text/plain": [
       "Text(0, 0.5, 'Number of Tickets')"
      ]
     },
     "execution_count": 33,
     "metadata": {},
     "output_type": "execute_result"
    },
    {
     "data": {
      "image/png": "[encoded data removed]",
      "text/plain": [
       "<Figure size 432x288 with 1 Axes>"
      ]
     },
     "metadata": {
      "needs_background": "light"
     },
     "output_type": "display_data"
    }
   ],
   "source": [
    "plt.scatter(X, y, c='blue')\n",
    "plt.plot([x_min, x_max], [y_min, y_max], c='red')\n",
    "plt.xlabel(\"Size of Vehicle\")\n",
    "plt.ylabel(\"Number of Tickets\")"
   ]
  },
  {
   "cell_type": "code",
   "execution_count": null,
   "id": "005c7130",
   "metadata": {},
   "outputs": [],
   "source": []
  }
 ],
 "metadata": {
  "kernelspec": {
   "display_name": "Python [conda env:.conda-PythonAdv] *",
   "language": "python",
   "name": "conda-env-.conda-PythonAdv-py"
  },
  "language_info": {
   "codemirror_mode": {
    "name": "ipython",
    "version": 3
   },
   "file_extension": ".py",
   "mimetype": "text/x-python",
   "name": "python",
   "nbconvert_exporter": "python",
   "pygments_lexer": "ipython3",
   "version": "3.6.13"
  }
 },
 "nbformat": 4,
 "nbformat_minor": 5
}
