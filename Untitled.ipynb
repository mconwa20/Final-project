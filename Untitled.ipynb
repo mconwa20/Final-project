{
 "cells": [
  {
   "cell_type": "code",
   "execution_count": 1,
   "id": "7502026d",
   "metadata": {},
   "outputs": [],
   "source": [
    "%matplotlib inline\n",
    "import matplotlib.pyplot as plt\n",
    "import numpy as np\n",
    "import pandas as pd\n"
   ]
  },
  {
   "cell_type": "code",
   "execution_count": null,
   "id": "044c14b0",
   "metadata": {},
   "outputs": [],
   "source": [
    "#May Need\n",
    "#from sklearn.datasets.samples_generator import make_blobs\n",
    "#from sklearn.datasets import make_regression\n",
    "#from sklearn.datasets import make_s_curve"
   ]
  },
  {
   "cell_type": "code",
   "execution_count": null,
   "id": "9f1213ec",
   "metadata": {},
   "outputs": [],
   "source": [
    "#Regular Linear Regression\n",
    "from sklearn.linear_model import LinearRegression\n",
    "from sklearn.model_selection import train_test_split"
   ]
  },
  {
   "cell_type": "code",
   "execution_count": null,
   "id": "6249947e",
   "metadata": {},
   "outputs": [],
   "source": [
    "#K Means For Clustering\n",
    "from sklearn.cluster import KMeans\n",
    "\n",
    "# Fit the model to the data\n",
    "\n",
    "kmeans.fit(data)\n",
    "\n",
    "# Plot the predicted clusters to see if the model predicted the correct clusters\n",
    "# This is visual validation that the model was trained correctly.\n",
    "plt.scatter(data[:, 0], data[:, 1], c=predicted_clusters, s=50, cmap='viridis')"
   ]
  },
  {
   "cell_type": "code",
   "execution_count": null,
   "id": "b11759a4",
   "metadata": {},
   "outputs": [],
   "source": [
    "#K Nearest Neighbors"
   ]
  },
  {
   "cell_type": "code",
   "execution_count": null,
   "id": "6fe872f6",
   "metadata": {},
   "outputs": [],
   "source": []
  }
 ],
 "metadata": {
  "kernelspec": {
   "display_name": "Python [conda env:.conda-PythonAdv] *",
   "language": "python",
   "name": "conda-env-.conda-PythonAdv-py"
  },
  "language_info": {
   "codemirror_mode": {
    "name": "ipython",
    "version": 3
   },
   "file_extension": ".py",
   "mimetype": "text/x-python",
   "name": "python",
   "nbconvert_exporter": "python",
   "pygments_lexer": "ipython3",
   "version": "3.6.13"
  }
 },
 "nbformat": 4,
 "nbformat_minor": 5
}
